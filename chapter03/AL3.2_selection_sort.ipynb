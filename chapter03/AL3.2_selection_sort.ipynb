{
 "cells": [
  {
   "cell_type": "markdown",
   "metadata": {},
   "source": [
    "# 문제정의\n",
    "정렬되지 않은 리스트의 탐색 문제\n"
   ]
  },
  {
   "cell_type": "markdown",
   "metadata": {},
   "source": [
    "# 알고리즘 설명\n",
    "리스트에 n개의 항목이 들어있을때 이 리스트에서 탐색키를 가진 항목을 찾기\n",
    "\n",
    "만약 찾는 항목이 있다면 그 항목의 인덱스를 반환, 없으면 -1을 반환\n",
    "\n",
    "리스트의 항목은 정렬되있지 않음"
   ]
  },
  {
   "cell_type": "markdown",
   "metadata": {},
   "source": [
    "# 코드 개요\n",
    "입력 변수 : arr, key\n",
    "\n",
    "출력 : arr,key\n",
    "\n",
    "코드 개요 : 리스트의 모든 값을 순회하며 탐색한 뒤, key의 변수에 해당하는 값이 있다면 그 값은 반환하고 key의 변수에 해당하는 값이 없을경우 -1을 반환한다."
   ]
  },
  {
   "cell_type": "code",
   "execution_count": null,
   "metadata": {},
   "outputs": [],
   "source": [
    "# 알고리즘 코드\n",
    "def sequential_search(A,key):\n",
    "    for i in range(len(A)):\n",
    "        if A[i]==key:\n",
    "            return i\n",
    "    return -1"
   ]
  },
  {
   "cell_type": "code",
   "execution_count": null,
   "metadata": {},
   "outputs": [],
   "source": [
    "# 테스트 코드\n",
    "arr=[7,4,2,1,6,9,8]\n",
    "key=9\n",
    "print(\"Original: \",arr)\n",
    "sequential_search(arr,key)\n",
    "print(\"Selection: \",key)\n"
   ]
  }
 ],
 "metadata": {
  "language_info": {
   "name": "python"
  }
 },
 "nbformat": 4,
 "nbformat_minor": 2
}
