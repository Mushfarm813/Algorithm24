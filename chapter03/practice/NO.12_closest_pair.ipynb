{
 "cells": [
  {
   "cell_type": "code",
   "execution_count": null,
   "metadata": {},
   "outputs": [],
   "source": [
    "# 기존의 3.4 알고리즘\n",
    "import math\n",
    "\n",
    "def distance(p1,p2):\n",
    "    return math.sqrt((p1[0]-p2[0])**2+(p1[1]-p2[1])**2)\n",
    "\n",
    "def closest_pair(p):\n",
    "    n=len(p)\n",
    "    mindist=float(\"inf\")\n",
    "    for i in range(n-1):\n",
    "        for j in range(i+1,n):\n",
    "            dist=distance(p[i],p[j])\n",
    "            if dist<mindist:\n",
    "                mindist=dist\n",
    "    return mindist"
   ]
  },
  {
   "cell_type": "markdown",
   "metadata": {},
   "source": [
    "(1) distance() 함수는 어떻게 수정되어야 할까?"
   ]
  },
  {
   "cell_type": "code",
   "execution_count": null,
   "metadata": {},
   "outputs": [],
   "source": [
    "# 수정된 distance() 함수\n",
    "def distance(p1,p2):\n",
    "    return abs(p2-p1)"
   ]
  },
  {
   "cell_type": "markdown",
   "metadata": {},
   "source": [
    "(2) 알고리즘 3.4보다 더 효율적인 알고리즘을 설계해 보라."
   ]
  },
  {
   "cell_type": "code",
   "execution_count": null,
   "metadata": {},
   "outputs": [],
   "source": [
    "#알고리즘 3.4\n",
    "import math\n",
    "\n",
    "def distance(p1,p2):\n",
    "    return math.sqrt((p1[0]-p2[0])**2+(p1[1]-p2[1])**2)\n",
    "\n",
    "def closest_pair(p):\n",
    "    n=len(p)\n",
    "    mindist=float(\"inf\")\n",
    "    for i in range(n-1):\n",
    "        for j in range(i+1,n):\n",
    "            dist=distance(p[i],p[j])\n",
    "            if dist<mindist:\n",
    "                mindist=dist\n",
    "    return mindist\n",
    "\n",
    "#알고리즘 5.8\n",
    "def strip_closest(P,d):\n",
    "    n=len(P)\n",
    "    d_min=d\n",
    "    P.sort(key=lambda point: point[1])\n",
    "\n",
    "    for i in range(n):\n",
    "        j=i+1\n",
    "\n",
    "        while j<n and (P[j][1]-P[i][1])<d_min:\n",
    "            dij=distance(P[i],P[j])\n",
    "            if dij<d_min:\n",
    "                d_min=dij\n",
    "            j +=1\n",
    "        return d_min\n",
    "\n",
    "#알고리즘 5.9\n",
    "def closest_pair_dist(P,n):\n",
    "    if n<3:\n",
    "        return closest_pair(P)\n",
    "    \n",
    "    mid=n//2\n",
    "    mid_x=P[mid][0]\n",
    "\n",
    "    dl=closest_pair_dist(P[:mid],mid)\n",
    "    dr=closest_pair_dist(P[mid:],n-mid)\n",
    "    d=min(dl,dr)\n",
    "\n",
    "    Pm=[]\n",
    "    for i in range(n):\n",
    "        if abs(P[i][0]-mid_x)<d:\n",
    "            Pm.append(P[i])\n",
    "\n",
    "    ds=strip_closest(Pm,d)\n",
    "    return ds\n"
   ]
  }
 ],
 "metadata": {
  "language_info": {
   "name": "python"
  }
 },
 "nbformat": 4,
 "nbformat_minor": 2
}
