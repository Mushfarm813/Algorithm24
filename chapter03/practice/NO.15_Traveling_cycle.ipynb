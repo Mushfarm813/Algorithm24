{
 "cells": [
  {
   "cell_type": "code",
   "execution_count": null,
   "metadata": {},
   "outputs": [],
   "source": [
    "def promising(i, W, vindex):\n",
    "    if i == len(W) - 1 and not W[vindex[i-1]][vindex[0]]:\n",
    "        return False\n",
    "    elif i > 0 and not W[vindex[i-1]][vindex[i]]:\n",
    "        return False\n",
    "    elif i < len(W) - 1 and vindex[i] in vindex[:i]:\n",
    "        return False\n",
    "    else:\n",
    "        return True\n",
    "\n",
    "def hamiltonian(i, W, vindex):\n",
    "    n = len(W)\n",
    "    if promising(i, W, vindex):\n",
    "        if i == n - 1:\n",
    "            print(vindex[:n])\n",
    "        else:\n",
    "            for j in range(2, n):\n",
    "                vindex[i + 1] = j\n",
    "                hamiltonian(i + 1, W, vindex.copy())\n",
    "\n",
    "W = [\n",
    "    [0, 1, 1, 1, 0],\n",
    "    [1, 0, 1, 0, 1],\n",
    "    [1, 1, 0, 1, 1],\n",
    "    [1, 0, 1, 0, 0],\n",
    "    [0, 1, 1, 0, 0]\n",
    "]\n",
    "vindex = [1] + [0] * (len(W) - 1)\n",
    "\n",
    "hamiltonian(0, W, vindex)"
   ]
  }
 ],
 "metadata": {
  "language_info": {
   "name": "python"
  }
 },
 "nbformat": 4,
 "nbformat_minor": 2
}
