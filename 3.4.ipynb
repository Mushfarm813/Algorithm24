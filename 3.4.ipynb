{
 "cells": [
  {
   "cell_type": "markdown",
   "metadata": {},
   "source": [
    "# 문제정의\n",
    "주어진 점의 리스트 중 최근접 쌍의 거리 구하기"
   ]
  },
  {
   "cell_type": "markdown",
   "metadata": {},
   "source": [
    "# 알고리즘 설명\n",
    "모든 점의 리스트의 최근접 쌍의 거리를 구한 뒤, 최솟값을 찾는다"
   ]
  },
  {
   "cell_type": "markdown",
   "metadata": {
    "vscode": {
     "languageId": "plaintext"
    }
   },
   "source": [
    "# 알고리즘 개요\n",
    "입력 변수 : p[], dist, mindist \n",
    "출력 : mindist\n",
    "알고리즘 개요"
   ]
  }
 ],
 "metadata": {
  "language_info": {
   "name": "python"
  }
 },
 "nbformat": 4,
 "nbformat_minor": 2
}
