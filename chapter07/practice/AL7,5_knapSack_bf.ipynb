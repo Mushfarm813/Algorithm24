{
 "cells": [
  {
   "cell_type": "markdown",
   "metadata": {},
   "source": [
    "# 문제 정의\n",
    "배낭의 용량을 고려해 배낭 안에 물건을 넣을때 배낭의 최대가치를 구하는 0-1 배낭 채우기 문제 (탐욕적 기법)"
   ]
  },
  {
   "cell_type": "markdown",
   "metadata": {},
   "source": [
    "# 알고리즘 설명\n",
    "0-1 배낭 문제를 해결하기 위해 재귀적 접근 방식을 사용하는 탐욕적 기법\n",
    "\n",
    "주어진 무게 제한 W와 각각의 아이템에 대한 무게 배열 wt 및 가치 배열 val을 고려하여 배낭에 담을 수 있는 최대 가치를 계산"
   ]
  },
  {
   "cell_type": "markdown",
   "metadata": {},
   "source": [
    "손으로 푼 예제"
   ]
  },
  {
   "cell_type": "markdown",
   "metadata": {},
   "source": [
    "# 코드 개요\n",
    "입력 : W, wt, val ,n\n",
    "\n",
    "출력 : kanpSack_bf(W,wt,val,n)\n",
    "\n",
    "함수 설명 : 주어진 무게 한도 내에서 n개의 아이템의 가치와 무게를 고려해 배낭의 최대 가치를 재귀적으로 계산하여 반환."
   ]
  },
  {
   "cell_type": "code",
   "execution_count": 1,
   "metadata": {},
   "outputs": [],
   "source": [
    "# 알고리즘 코드\n",
    "def knapSack_bf(W,wt,val,n):\n",
    "    if n==0 or W==0:\n",
    "        return 0\n",
    "    \n",
    "    if (wt[n-1]>W):\n",
    "        return knapSack_bf(W,wt,val,n-1)\n",
    "    else:\n",
    "        valWithout=knapSack_bf(W,wt,val,n-1)\n",
    "        valWith=val[n-1]+knapSack_bf(W-wt[n-1],wt,val,n-1)\n",
    "        return max(valWith,valWithout)"
   ]
  },
  {
   "cell_type": "code",
   "execution_count": 2,
   "metadata": {},
   "outputs": [
    {
     "name": "stdout",
     "output_type": "stream",
     "text": [
      "0-1배낭문제(분할 정복):  510\n"
     ]
    }
   ],
   "source": [
    "# 테스트 코드\n",
    "val=[30,50,130,200,100,80]\n",
    "wt=[1,5,6,2,3,5]\n",
    "W=16\n",
    "n=len(val)\n",
    "print(\"0-1배낭문제(분할 정복): \",knapSack_bf(W,wt,val,n))"
   ]
  },
  {
   "attachments": {
    "image.png": {
     "image/png": "[encoded data removed]"
    }
   },
   "cell_type": "markdown",
   "metadata": {},
   "source": [
    "![image.png](attachment:image.png)"
   ]
  },
  {
   "cell_type": "markdown",
   "metadata": {},
   "source": [
    "# 복잡도 분석\n",
    "분할 정복 알고리즘은 개수가 많으면 많아질 수록 많은 중복이 발생하게 되는데  최악의 경우의 시간복잡도는 O(2^n)을 가지게 된다."
   ]
  },
  {
   "cell_type": "markdown",
   "metadata": {},
   "source": [
    "# 협력 내용\n",
    "이재선 - 7.5, 7.6"
   ]
  }
 ],
 "metadata": {
  "kernelspec": {
   "display_name": "base",
   "language": "python",
   "name": "python3"
  },
  "language_info": {
   "codemirror_mode": {
    "name": "ipython",
    "version": 3
   },
   "file_extension": ".py",
   "mimetype": "text/x-python",
   "name": "python",
   "nbconvert_exporter": "python",
   "pygments_lexer": "ipython3",
   "version": "3.11.7"
  }
 },
 "nbformat": 4,
 "nbformat_minor": 2
}
