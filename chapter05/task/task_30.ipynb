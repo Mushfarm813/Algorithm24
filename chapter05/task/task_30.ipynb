{
 "cells": [
  {
   "cell_type": "markdown",
   "metadata": {},
   "source": [
    "# 문제:30\n",
    "C언어에서는 4바이트로 int를 표현하는데, 최대 2^31-1까지 표현할 수 있다. 이 경우의 최대 피보나치 수를 구하라."
   ]
  },
  {
   "cell_type": "markdown",
   "metadata": {},
   "source": [
    "피보나치 수열은 하나는 각 항이 그 앞의 두 항의 합인것이다. 즉 n번째 항은 n-1번째 항과 n-2번째 항의 합이라는 것이다. (단, n이 3이상일때) 따라서 이를 코드로 구현해 구해보자면 아래와 같을 것이다."
   ]
  },
  {
   "cell_type": "code",
   "execution_count": 1,
   "metadata": {},
   "outputs": [
    {
     "name": "stdout",
     "output_type": "stream",
     "text": [
      "최대 피보나치 수: 1134903170\n"
     ]
    }
   ],
   "source": [
    "def max_fibonacci():\n",
    "    max_int = 2147483647  \n",
    "    a, b = 0, 1  \n",
    "\n",
    "    while b <= max_int - a:  \n",
    "        a, b = b, a + b\n",
    "\n",
    "    return a \n",
    "\n",
    "max_fib = max_fibonacci()\n",
    "print(\"최대 피보나치 수:\", max_fib)"
   ]
  }
 ],
 "metadata": {
  "kernelspec": {
   "display_name": ".venv",
   "language": "python",
   "name": "python3"
  },
  "language_info": {
   "codemirror_mode": {
    "name": "ipython",
    "version": 3
   },
   "file_extension": ".py",
   "mimetype": "text/x-python",
   "name": "python",
   "nbconvert_exporter": "python",
   "pygments_lexer": "ipython3",
   "version": "3.11.9"
  }
 },
 "nbformat": 4,
 "nbformat_minor": 2
}
