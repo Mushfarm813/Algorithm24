{
 "cells": [
  {
   "cell_type": "markdown",
   "metadata": {},
   "source": [
    "# 문제정의\n",
    "순환구조로 기술한 병합 정렬 알고리즘"
   ]
  },
  {
   "cell_type": "markdown",
   "metadata": {},
   "source": [
    "# 알고리즘 설명\n",
    "항목이 2개 이상일 경우 리스트를 2로 나눠 분할한 뒤, 리스트를 각각 정렬한뒤에 병합한다"
   ]
  },
  {
   "cell_type": "markdown",
   "metadata": {},
   "source": [
    "손으로 푼 예제"
   ]
  },
  {
   "cell_type": "code",
   "execution_count": 1,
   "metadata": {},
   "outputs": [],
   "source": [
    "# 알고리즘 코드\n",
    "def merge(A,left,mid,right):\n",
    "    k=left\n",
    "    i=left\n",
    "    j=mid+1\n",
    "    while i<=mid and j<=right:\n",
    "        if A[i]<=A[j]:\n",
    "            sorted[k]=A[i]\n",
    "            i,k=i+1,k+1\n",
    "        else:\n",
    "            sorted[k]=A[j]\n",
    "            j,k=j+1,k+1\n",
    "\n",
    "    if i>mid:\n",
    "        sorted[k:k+right-j+1]=A[j:right+1]\n",
    "    else:\n",
    "        sorted[k:k+mid-i+1]=A[i:mid+1]\n",
    "\n",
    "    A[left:right+1]=sorted[left:right+1]\n",
    "\n",
    "def merge_sort(A,left,right):\n",
    "    if left<right:\n",
    "        mid=(left+right)//2\n",
    "        merge_sort(A,left,mid)\n",
    "        merge_sort(A,mid+1,right)\n",
    "        merge(A,left,mid,right)"
   ]
  },
  {
   "cell_type": "code",
   "execution_count": 2,
   "metadata": {},
   "outputs": [
    {
     "name": "stdout",
     "output_type": "stream",
     "text": [
      "Original :  [5, 3, 8, 4, 9, 1, 6, 2, 7]\n",
      "MergeSort :  [1, 2, 3, 4, 5, 6, 7, 8, 9]\n"
     ]
    }
   ],
   "source": [
    "#테스트 코드\n",
    "data=[5,3,8,4,9,1,6,2,7]\n",
    "sorted=[0]*len(data)\n",
    "print(\"Original : \",data)\n",
    "merge_sort(data,0,len(data)-1)\n",
    "print(\"MergeSort : \",data)"
   ]
  },
  {
   "attachments": {
    "image.png": {
     "image/png": "[encoded data removed]"
    }
   },
   "cell_type": "markdown",
   "metadata": {},
   "source": [
    "# 수행결과\n",
    "![image.png](attachment:image.png)"
   ]
  },
  {
   "cell_type": "markdown",
   "metadata": {},
   "source": [
    "# 복잡도 분석\n",
    "하나의 배열을 반으로 나누는데에 O(log n)의 시간복잡도를 가지므로 O(log n)이다."
   ]
  }
 ],
 "metadata": {
  "kernelspec": {
   "display_name": "Python 3",
   "language": "python",
   "name": "python3"
  },
  "language_info": {
   "codemirror_mode": {
    "name": "ipython",
    "version": 3
   },
   "file_extension": ".py",
   "mimetype": "text/x-python",
   "name": "python",
   "nbconvert_exporter": "python",
   "pygments_lexer": "ipython3",
   "version": "3.12.2"
  }
 },
 "nbformat": 4,
 "nbformat_minor": 2
}
