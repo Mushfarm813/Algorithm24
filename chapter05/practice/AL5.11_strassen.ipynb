{
 "cells": [
  {
   "cell_type": "markdown",
   "metadata": {},
   "source": [
    "# 문제정의\n",
    "두 행렬을 곱하는 문제"
   ]
  },
  {
   "cell_type": "markdown",
   "metadata": {},
   "source": [
    "# 알고리즘 설명\n",
    "쉬트라쎈 알고리즘을 사용 -> 7개의 행렬을 구해 이들이 구해지면, 원래의 행렬 곱셈을 구한다."
   ]
  },
  {
   "cell_type": "markdown",
   "metadata": {},
   "source": [
    "# 손으로 푼 예제"
   ]
  },
  {
   "cell_type": "code",
   "execution_count": 2,
   "metadata": {},
   "outputs": [],
   "source": [
    "#알고리즘 코드\n",
    "import numpy as np\n",
    "\n",
    "def strassen(A,B):\n",
    "    n=len(A)\n",
    "    if n==1:\n",
    "        return A*B\n",
    "    \n",
    "    n2=n//2\n",
    "    A11,A12,A21,A22=A[:n2,:n2],A[:n2,n2:],A[n2:,:n2],A[n2:,n2:]\n",
    "    B11,B12,B21,B22=B[:n2,:n2],B[:n2,n2:],B[n2:,:n2],B[n2:,n2:]\n",
    "\n",
    "    M1=strassen(A11+A22,B11+B22)\n",
    "    M2=strassen(A21+A22,B11)\n",
    "    M3=strassen(A11,B12-B22)\n",
    "    M4=strassen(A22,B21-B11)\n",
    "    M5=strassen(A11+A12,B22)\n",
    "    M6=strassen(A21-A11,B11+B12)\n",
    "    M7=strassen(A12-A22,B21+B22)\n",
    "\n",
    "    C11=M1+M4-M5+M7\n",
    "    C12=M3+M5\n",
    "    C21=M2+M4\n",
    "    C22=M1+M3-M2+M6\n",
    "\n",
    "    C=np.vstack((np.hstack((C11,C12)),np.hstack((C21,C22))))\n",
    "\n",
    "    return C"
   ]
  },
  {
   "cell_type": "code",
   "execution_count": 3,
   "metadata": {},
   "outputs": [
    {
     "name": "stdout",
     "output_type": "stream",
     "text": [
      "[[0 1]\n",
      " [2 3]]\n",
      "[[4 5]\n",
      " [0 2]]\n",
      "[[ 0  2]\n",
      " [ 8 16]]\n"
     ]
    }
   ],
   "source": [
    "#테스트 코드\n",
    "A=np.array([[0,1],[2,3]])\n",
    "B=np.array([[4,5],[0,2]])\n",
    "C=strassen(A,B)\n",
    "print(A)\n",
    "print(B)\n",
    "print(C)"
   ]
  },
  {
   "cell_type": "markdown",
   "metadata": {},
   "source": []
  }
 ],
 "metadata": {
  "kernelspec": {
   "display_name": "Python 3",
   "language": "python",
   "name": "python3"
  },
  "language_info": {
   "codemirror_mode": {
    "name": "ipython",
    "version": 3
   },
   "file_extension": ".py",
   "mimetype": "text/x-python",
   "name": "python",
   "nbconvert_exporter": "python",
   "pygments_lexer": "ipython3",
   "version": "3.12.2"
  }
 },
 "nbformat": 4,
 "nbformat_minor": 2
}
