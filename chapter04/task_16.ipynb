{
 "cells": [
  {
   "cell_type": "markdown",
   "metadata": {},
   "source": [
    "# 문제\n",
    "두 행렬을 곱하는 multMul(M1,M2) 함수를 구현하고, 알고리즘 4.9의 행렬 거듭제곱 알고리즘이 잘 동작한다는 것을 몇 가지 예를 통해 보여라."
   ]
  },
  {
   "cell_type": "code",
   "execution_count": null,
   "metadata": {},
   "outputs": [],
   "source": [
    "# 16번의 multMul 알고리즘\n",
    "def multMul(M1, M2):\n",
    "    result = []\n",
    "    for i in range(len(M1)):\n",
    "        row = []\n",
    "        for j in range(len(M2[0])):\n",
    "            total = 0\n",
    "            for k in range(len(M2)):\n",
    "                total += M1[i][k] * M2[k][j]\n",
    "            row.append(total)\n",
    "        result.append(row)\n",
    "    return result"
   ]
  },
  {
   "cell_type": "code",
   "execution_count": null,
   "metadata": {},
   "outputs": [],
   "source": [
    "# 4.9의 행렬의 거듭제곱 알고리즘\n",
    "def powerMat(x,n):\n",
    "    if n==1:\n",
    "        return x\n",
    "    elif (n%2)==0:\n",
    "        return powerMat(multMul(x,x),n//2)\n",
    "    else:\n",
    "        return multMul(powerMat(multMul(x,x),(n-1)//2))\n",
    "    \n",
    "M=[[1,2],[3,4]]\n",
    "\n",
    "print(powerMat(M,3))"
   ]
  }
 ],
 "metadata": {
  "language_info": {
   "name": "python"
  }
 },
 "nbformat": 4,
 "nbformat_minor": 2
}
