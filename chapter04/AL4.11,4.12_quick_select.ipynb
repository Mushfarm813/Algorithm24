{
 "cells": [
  {
   "cell_type": "markdown",
   "metadata": {},
   "source": [
    "# 문제정의\n",
    "축소 정복 기법을 이용한 k번째 작은 수 찾기"
   ]
  },
  {
   "cell_type": "markdown",
   "metadata": {},
   "source": [
    "# 알고리즘 설명\n",
    "k번째 작은 수를 찾으려면 피벗으로 지정한 수가 인덱스+1한 수와 같은지를 판단하고 피벗 인덱스의 수가 작다면 답은 왼쪽에 있고 인덱스 + k번째 수를 찾는다.\n",
    "\n",
    "피벗 인덱스의 수가 크다면 답은 오른쪽에 있고 k-(인덱스+left)번째 수를 찾는다."
   ]
  },
  {
   "cell_type": "markdown",
   "metadata": {},
   "source": [
    "# 코드개요\n",
    "입력 변수 : quick_select\n",
    "\n",
    "출력 : 따로 출력문은 없이 호출문으로 호출을 하면 실행이 된다.\n",
    "\n",
    "함수 설명 : 이 함수는 Quick Select 알고리즘을 사용하여 배열 A에서 k번째로 작은 값을 찾습니다. 함수는 배열 A와 배열의 왼쪽 경계 left, 오른쪽 경계 right, 그리고 찾고자 하는 k 값을 인수로 받습니다.\n",
    "\n",
    "함수는 재귀적으로 호출되며, 배열을 피벗을 기준으로 분할한 후 k번째 작은 값을 찾습니다. 그리고 해당 값을 반환합니다."
   ]
  },
  {
   "cell_type": "code",
   "execution_count": null,
   "metadata": {},
   "outputs": [],
   "source": [
    "# 알고리즘 코드\n",
    "def quick_select(A, left, right, k):\n",
    "    pos = partition(A, left, right)\n",
    "    \n",
    "    if (pos+1 == left+k):\n",
    "        return A[pos]\n",
    "    elif(pos+1 > left+k):\n",
    "        return quick_select(A, left, pos-1,k)\n",
    "    else:\n",
    "        return quick_select(A, pos+1,right,k-(pos+1-left))\n",
    "\n",
    "#4.12 파티션\n",
    "def partition(A, left, right) :  \n",
    "    low = left + 1\n",
    "    high = right\n",
    "    pivot = A[left]\n",
    "    while (low <= high) :\n",
    "        while low <= right and A[low] <= pivot : low += 1\n",
    "        while high >= left and A[high]> pivot : high-= 1\n",
    "        \n",
    "        if low < high :\n",
    "            A[low], A[high] = A[high], A[low]\n",
    "            \n",
    "    A[left], A[high] = A[high], A[left]\n",
    "    return high\n",
    "\n",
    "array = [12, 3, 5, 7, 4, 19, 26, 23, 15]\n",
    "print(\"입력 리스트= \",array)\n",
    "n = len(array)\n",
    "print(\"[축소기법] 3번째 작은 수:\", quick_select(array, 0, n-1, 3))\n",
    "print(\"[축소기법] 6번째 작은 수:\", quick_select(array, 0, n-1, 6))"
   ]
  },
  {
   "cell_type": "code",
   "execution_count": null,
   "metadata": {},
   "outputs": [],
   "source": [
    "#테스트 코드\n",
    "def quick_select(A, left, right, k):\n",
    "    pos = partition(A, left, right)\n",
    "    \n",
    "    if (pos+1 == left+k):\n",
    "        return A[pos]\n",
    "    elif(pos+1 > left+k):\n",
    "        return quick_select(A, left, pos-1,k)\n",
    "    else:\n",
    "        return quick_select(A, pos+1,right,k-(pos+1-left))\n",
    "\n",
    "#4.12 파티션\n",
    "def partition(A, left, right) :  \n",
    "    low = left + 1\n",
    "    high = right\n",
    "    pivot = A[left]\n",
    "    while (low <= high) :\n",
    "        while low <= right and A[low] <= pivot : low += 1\n",
    "        while high >= left and A[high]> pivot : high-= 1\n",
    "        \n",
    "        if low < high :\n",
    "            A[low], A[high] = A[high], A[low]\n",
    "            \n",
    "    A[left], A[high] = A[high], A[left]\n",
    "    return high\n",
    "\n",
    "array = [1, 9, 3, 2, 4, 19, 20, 11, 5]\n",
    "print(\"입력 리스트= \",array)\n",
    "n = len(array)\n",
    "print(\"[축소기법] 2번째 작은 수:\", quick_select(array, 0, n-1, 2))\n",
    "print(\"[축소기법] 8번째 작은 수:\", quick_select(array, 0, n-1, 8))"
   ]
  },
  {
   "cell_type": "markdown",
   "metadata": {},
   "source": []
  }
 ],
 "metadata": {
  "language_info": {
   "name": "python"
  }
 },
 "nbformat": 4,
 "nbformat_minor": 2
}
