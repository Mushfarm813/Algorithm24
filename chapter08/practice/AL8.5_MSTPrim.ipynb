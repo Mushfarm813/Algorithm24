{
 "cells": [
  {
   "cell_type": "markdown",
   "metadata": {},
   "source": [
    "# 문제 정의"
   ]
  },
  {
   "cell_type": "markdown",
   "metadata": {},
   "source": [
    "# 알고리즘 설명"
   ]
  },
  {
   "cell_type": "markdown",
   "metadata": {},
   "source": [
    "손으로 푼 예제"
   ]
  },
  {
   "cell_type": "markdown",
   "metadata": {},
   "source": [
    "# 코드 개요"
   ]
  },
  {
   "cell_type": "code",
   "execution_count": null,
   "metadata": {},
   "outputs": [],
   "source": [
    "# AL8.4 코드\n",
    "def getMinVertex(dist,selected):\n",
    "    minv=-1\n",
    "    mindist=INF\n",
    "    for v in range(len(dist)):\n",
    "        if not selected[v] and dist[v]<mindist:\n",
    "            mindist=dist[v]\n",
    "            minv=v\n",
    "        return minv\n",
    "\n",
    "# 알고리즘 코드\n",
    "def MSTPrim(vertex,adj):\n",
    "    vsize=len(vertex)\n",
    "    dist=[INF]*vsize\n",
    "    dist[0]=0\n",
    "    selected=[False]*vsize\n",
    "\n",
    "    for i in range(vsize):\n",
    "        u=getMinVertex(dist.selected)\n",
    "        selected[u]=True\n",
    "        print(vertex[u], end=':')\n",
    "        print(dist)\n",
    "\n",
    "        for v in range(vsize):\n",
    "            if (adj[u][v]!=None):\n",
    "                if selected[v]==False and adj[u][v]<dist[v]:\n",
    "                    dist[v]=adj[u][v]"
   ]
  },
  {
   "cell_type": "code",
   "execution_count": null,
   "metadata": {},
   "outputs": [],
   "source": [
    "# 테스트 코드\n",
    "vertex=['A','B','C','D','E','F','G']\n",
    "weight=[[None,29,None,None,None,10,None],\n",
    "        [29,None,16,None,None,None,15],\n",
    "        [None,16,None,12,None,None,None],\n",
    "        [None,None,12,None,22,None,18],\n",
    "        [None,None,None,22,None,27,25],\n",
    "        [10,None,None,None,27,None,None],\n",
    "        [None,15,None,18,25,None,None]]"
   ]
  },
  {
   "cell_type": "markdown",
   "metadata": {},
   "source": []
  },
  {
   "cell_type": "markdown",
   "metadata": {},
   "source": []
  },
  {
   "cell_type": "markdown",
   "metadata": {},
   "source": []
  }
 ],
 "metadata": {
  "language_info": {
   "name": "python"
  }
 },
 "nbformat": 4,
 "nbformat_minor": 2
}
