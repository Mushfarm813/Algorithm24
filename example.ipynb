{
 "cells": [
  {
   "cell_type": "markdown",
   "metadata": {},
   "source": [
    "# 문제 정의\n",
    "리스트에 있는 키(key)의 순서에 따라 오름차순 정렬"
   ]
  },
  {
   "cell_type": "markdown",
   "metadata": {},
   "source": [
    "# 알고리즘 설명\n",
    "입력 리스트에서 가장 작은 항목을 찾은 뒤, 정렬된 리스트에 순차적으로 저장"
   ]
  },
  {
   "cell_type": "markdown",
   "metadata": {},
   "source": []
  },
  {
   "cell_type": "markdown",
   "metadata": {},
   "source": [
    "# 알고리즘 개요\n",
    "입력 변수 : i(최솟값),j(갱신된 최솟값)\n",
    "출력 : 정렬된 리스트\n",
    "알고리즘 개요 : 최솟값을 찾아 저장한 후, 정렬하는 것을 반복"
   ]
  },
  {
   "cell_type": "code",
   "execution_count": null,
   "metadata": {},
   "outputs": [],
   "source": [
    "#알고리즘 코드\n",
    "def selection_sort(A):\n",
    "    n=len(A)\n",
    "    for i in range(n-1):\n",
    "        least=i\n",
    "        for j in range(i+1,n):\n",
    "            if (A[j]<A[least]):\n",
    "                least=j\n",
    "        A[i],A[least]=A[least],A[i]\n",
    "        printStep(A,i+1)"
   ]
  },
  {
   "cell_type": "code",
   "execution_count": null,
   "metadata": {},
   "outputs": [],
   "source": [
    "#테스트 코드\n",
    "def printStep(arr,val):\n",
    "    print(\"Step %2d= \"%val,end='')\n",
    "    print(arr)\n"
   ]
  }
 ],
 "metadata": {
  "kernelspec": {
   "display_name": "Python 3",
   "language": "python",
   "name": "python3"
  },
  "language_info": {
   "codemirror_mode": {
    "name": "ipython",
    "version": 3
   },
   "file_extension": ".py",
   "mimetype": "text/x-python",
   "name": "python",
   "nbconvert_exporter": "python",
   "pygments_lexer": "ipython3",
   "version": "3.12.2"
  }
 },
 "nbformat": 4,
 "nbformat_minor": 2
}
