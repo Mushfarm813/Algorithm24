{
 "cells": [
  {
   "cell_type": "markdown",
   "metadata": {},
   "source": [
    "# 문제 : 20\n",
    "크기가 13인 해시 테이블에서 입력 자료 27과 130은 어떤 인덱스로 대응되는가? 해싱 함수는 h(key)=key%13라고 하자.\n",
    "\n",
    "\t(1) 1, 10       (2) 13, 0       (3) 1, 0\t\t(4) 2, 3"
   ]
  },
  {
   "cell_type": "markdown",
   "metadata": {},
   "source": [
    "해시 테이블의 크기가 13이며 해싱함수는 h(key)=key%13이므로 27에 대해서는 27%13=1의 인덱스와 대응되고 130%13=0의 인덱스로 대응된다.\n",
    "\n",
    "따라서 정답은 (3) 1,0이 된다.\n",
    "\n",
    "*여기서 %는 나누고 난 후의 나머지."
   ]
  }
 ],
 "metadata": {
  "language_info": {
   "name": "python"
  }
 },
 "nbformat": 4,
 "nbformat_minor": 2
}
