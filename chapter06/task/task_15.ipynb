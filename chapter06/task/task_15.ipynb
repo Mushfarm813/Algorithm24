{
 "cells": [
  {
   "cell_type": "markdown",
   "metadata": {},
   "source": [
    "# 문제 : 15\n",
    "호스풀 알고리즘으로 DNA의 염기서열 탐색 문제를 해ᅟᅧᆯ해 보자. 어떤 DNA 서열이 {A, C, G, T}로만 구성되어 있다고 하자.\n",
    "\n",
    "(1) 다음과 같은 염기서열에 대한 시프트 테이블을 구성하라.\n",
    "TCCTATTCTT\n",
    "\n",
    "(2) 호스풀 알고리즘을 이용해 다음 DNA 시퀀스에서 위의 염기서열을 찾아라.\n",
    "TTATAGATCTCGTATTCTTTTATAGATCTCCTATTCTT"
   ]
  },
  {
   "cell_type": "code",
   "execution_count": 1,
   "metadata": {},
   "outputs": [],
   "source": [
    "# (1)번 문제 코드\n",
    "NO_OF_CHARS=128\n",
    "def shift_table(pat):\n",
    "    m=len(pat)\n",
    "    tbl=[m]*NO_OF_CHARS\n",
    "\n",
    "    for i in range(m-1):\n",
    "        tbl[ord(pat[i])]=m-1-i\n",
    "\n",
    "    return tbl\n",
    "\n",
    "# A: 1, C: 2, G:6, T:3 의 시프트 테이블을 가지게 된다."
   ]
  },
  {
   "cell_type": "code",
   "execution_count": 2,
   "metadata": {},
   "outputs": [
    {
     "name": "stdout",
     "output_type": "stream",
     "text": [
      "염기서열의 위치:  28\n"
     ]
    }
   ],
   "source": [
    "# (2)번 문제 코드\n",
    "def search_horspool(T,P):\n",
    "    m=len(P)\n",
    "    n=len(T)\n",
    "    t=shift_table(P)\n",
    "    i=m-1\n",
    "    while(i<=n-1):\n",
    "        k=0\n",
    "        while k<=m-1 and P[m-1-k]==T[i-k]:\n",
    "            k +=1\n",
    "        if k==m:\n",
    "            return i-m+1\n",
    "        else:\n",
    "            tc=t[ord(T[i-k])]\n",
    "            i+=(tc-k)\n",
    "    return -1\n",
    "\n",
    "print(\"염기서열의 위치: \",search_horspool(\"TTATAGATCTCGTATTCTTTTATAGATCTCCTATTCTT\",\"TCCTATTCTT\"))"
   ]
  }
 ],
 "metadata": {
  "kernelspec": {
   "display_name": "Python 3",
   "language": "python",
   "name": "python3"
  },
  "language_info": {
   "codemirror_mode": {
    "name": "ipython",
    "version": 3
   },
   "file_extension": ".py",
   "mimetype": "text/x-python",
   "name": "python",
   "nbconvert_exporter": "python",
   "pygments_lexer": "ipython3",
   "version": "3.11.9"
  }
 },
 "nbformat": 4,
 "nbformat_minor": 2
}
