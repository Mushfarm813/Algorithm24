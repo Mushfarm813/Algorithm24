{
 "cells": [
  {
   "cell_type": "markdown",
   "metadata": {},
   "source": [
    "# 문제 정의\n",
    "버킷을 위해 큐를 사용한 기수정렬 알고리즘"
   ]
  },
  {
   "cell_type": "markdown",
   "metadata": {},
   "source": [
    "# 알고리즘 설명\n",
    "공백 큐를 만들고 가장 낮은 자릿수부터 순서대로 DIGITS번의 패스를 통해 항목들을 큐에 삽입, 제거를 반복"
   ]
  },
  {
   "cell_type": "markdown",
   "metadata": {},
   "source": [
    "손으로 푼 예제"
   ]
  },
  {
   "cell_type": "markdown",
   "metadata": {},
   "source": [
    "# 코드개요\n",
    "입력변수 : A\n",
    "\n",
    "출력 : radix_sort(A)\n",
    "\n",
    "함수 설명 : Queue에 BUCKETS개의 큐 삽입을 반복"
   ]
  },
  {
   "cell_type": "code",
   "execution_count": 5,
   "metadata": {},
   "outputs": [],
   "source": [
    "#알고리즘 코드\n",
    "from queue import Queue\n",
    "\n",
    "def radix_sort(A):\n",
    "    queues = []\n",
    "    for i in range(BUCKETS):\n",
    "        queues.append(Queue())\n",
    "\n",
    "    n = len(A)\n",
    "    factor = 1\n",
    "    for d in range(DIGITS):\n",
    "        for i in range(n):\n",
    "            queues[(A[i] // factor) % BUCKETS].put(A[i])\n",
    "        j = 0\n",
    "        for b in range(BUCKETS):\n",
    "            while not queues[b].empty():\n",
    "                A[j] = queues[b].get()\n",
    "                j += 1\n",
    "        factor *= BUCKETS\n",
    "        print(\"stop\", d + 1, A)\n"
   ]
  },
  {
   "cell_type": "code",
   "execution_count": 6,
   "metadata": {},
   "outputs": [
    {
     "name": "stdout",
     "output_type": "stream",
     "text": [
      "stop 1 [4490, 321, 1471, 2612, 4523, 4224, 2994, 9635, 7777, 8497]\n",
      "stop 2 [2612, 321, 4523, 4224, 9635, 1471, 7777, 4490, 2994, 8497]\n",
      "stop 3 [4224, 321, 1471, 4490, 8497, 4523, 2612, 9635, 7777, 2994]\n",
      "stop 4 [321, 1471, 2612, 2994, 4224, 4490, 4523, 7777, 8497, 9635]\n",
      "Radix:  [321, 1471, 2612, 2994, 4224, 4490, 4523, 7777, 8497, 9635]\n"
     ]
    }
   ],
   "source": [
    "#테스트 코드\n",
    "import random\n",
    "BUCKETS=10\n",
    "DIGITS=4\n",
    "data=[]\n",
    "for i in range(10):\n",
    "    data.append(random.randint(1,9999))\n",
    "radix_sort(data)\n",
    "print(\"Radix: \",data)"
   ]
  },
  {
   "attachments": {
    "image.png": {
     "image/png": "[encoded data removed]"
    }
   },
   "cell_type": "markdown",
   "metadata": {},
   "source": [
    "# 수행결과\n",
    "![image.png](attachment:image.png)"
   ]
  },
  {
   "cell_type": "markdown",
   "metadata": {},
   "source": [
    "# 복잡도 분석\n",
    "외부루프는 d번 이상 반복, 내부루프는 n번 반복되므로 T(n)=d(n+n)이고, 기수정렬은 O(d*n)의 시간복잡도를 가진다.\n",
    "\n",
    "하지만 일반적으로 d는 n에 비해서 아주 작은 수가 되므로 기수 정렬은 O(n) 이라고 하여도 무방하다."
   ]
  }
 ],
 "metadata": {
  "kernelspec": {
   "display_name": "Python 3",
   "language": "python",
   "name": "python3"
  },
  "language_info": {
   "codemirror_mode": {
    "name": "ipython",
    "version": 3
   },
   "file_extension": ".py",
   "mimetype": "text/x-python",
   "name": "python",
   "nbconvert_exporter": "python",
   "pygments_lexer": "ipython3",
   "version": "3.12.2"
  }
 },
 "nbformat": 4,
 "nbformat_minor": 2
}
