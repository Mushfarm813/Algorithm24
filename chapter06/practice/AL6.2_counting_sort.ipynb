{
 "cells": [
  {
   "cell_type": "markdown",
   "metadata": {},
   "source": [
    "# 문제 정의\n",
    "리스트의 각 항목들을 단순히 세는 방법으로 정렬하는 알고리즘"
   ]
  },
  {
   "cell_type": "markdown",
   "metadata": {},
   "source": [
    "# 알고리즘 설명\n",
    "각 원소의 빈도를 카운팅 배열에 저장한 후, 누적 합을 계산하여 정렬된 배열을 생성하는 알고리즘"
   ]
  },
  {
   "cell_type": "markdown",
   "metadata": {},
   "source": [
    "손으로 푼 예제"
   ]
  },
  {
   "cell_type": "markdown",
   "metadata": {},
   "source": [
    "# 코드개요\n",
    "입력 변수 : A\n",
    "\n",
    "출력 : counting_sort(A)\n",
    "\n",
    "함수 설명 : 정렬 결과저장용 임시 리스트를 정의한 뒤, 각 숫자의 빈도를 저장한다. \n",
    "\n",
    "그 후 각 숫자별 빈도를 계산한 뒤, count[i]가 출력 배열에서 해당 숫자의 위치가 되도록 수정한다."
   ]
  },
  {
   "cell_type": "code",
   "execution_count": 1,
   "metadata": {},
   "outputs": [],
   "source": [
    "# 알고리즘 코드\n",
    "def counting_sort(A):\n",
    "    output=[0]*len(A)\n",
    "    count=[0]*MAX_VAL\n",
    "\n",
    "    for i in A:\n",
    "        count[i]+=1\n",
    "\n",
    "    for i in range(MAX_VAL):\n",
    "        count[i]+=count[i-1]\n",
    "    \n",
    "    for i in range(len(A)):\n",
    "        output[count[A[i]]-1]=A[i]\n",
    "        count[A[i]]-=1\n",
    "    \n",
    "    for i in range(len(A)):\n",
    "        A[i]=output[i]"
   ]
  },
  {
   "cell_type": "code",
   "execution_count": 2,
   "metadata": {},
   "outputs": [
    {
     "name": "stdout",
     "output_type": "stream",
     "text": [
      "Original :  [1, 4, 1, 2, 7, 5, 2]\n",
      "Counting :  [1, 1, 2, 2, 4, 5, 7]\n"
     ]
    }
   ],
   "source": [
    "# 테스트 코드\n",
    "MAX_VAL=10\n",
    "data=[1,4,1,2,7,5,2]\n",
    "print(\"Original : \",data)\n",
    "counting_sort(data)\n",
    "print(\"Counting : \",data)"
   ]
  },
  {
   "cell_type": "markdown",
   "metadata": {},
   "source": []
  },
  {
   "cell_type": "markdown",
   "metadata": {},
   "source": []
  }
 ],
 "metadata": {
  "kernelspec": {
   "display_name": "Python 3",
   "language": "python",
   "name": "python3"
  },
  "language_info": {
   "codemirror_mode": {
    "name": "ipython",
    "version": 3
   },
   "file_extension": ".py",
   "mimetype": "text/x-python",
   "name": "python",
   "nbconvert_exporter": "python",
   "pygments_lexer": "ipython3",
   "version": "3.12.2"
  }
 },
 "nbformat": 4,
 "nbformat_minor": 2
}
