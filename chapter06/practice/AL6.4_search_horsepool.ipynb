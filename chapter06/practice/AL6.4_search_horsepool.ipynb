{
 "cells": [
  {
   "cell_type": "markdown",
   "metadata": {},
   "source": [
    "# 문제정의\n",
    "호스풀 알고리즘을 이용해 텍스트 T와 패턴 P를 주어준 뒤, T에서 P가 나타나는 위치를 찾아 반환하는 알고리즘"
   ]
  },
  {
   "cell_type": "markdown",
   "metadata": {},
   "source": [
    "# 알고리즘 설명\n"
   ]
  },
  {
   "cell_type": "markdown",
   "metadata": {},
   "source": [
    "손으로 푼 예제"
   ]
  },
  {
   "cell_type": "markdown",
   "metadata": {},
   "source": [
    "# 코드개요\n",
    "입력변수 : T,P\n",
    "\n",
    "출력 : search_horspool\n",
    "\n",
    "함수 설명 : 패턴과 텍스트의 길이를 정의, 시프트 테이블을 생성하고 패턴의 우측 끝 문자 위치부터 가능한 모든 위치에 대해 뒤에서 앞으로 매칭하며 맞을 경우 계속 진행, 실패할 경우 T[i]의 테이블을 참조하여 건너뛴다."
   ]
  },
  {
   "cell_type": "code",
   "execution_count": 3,
   "metadata": {},
   "outputs": [],
   "source": [
    "NO_OF_CHARS=128\n",
    "def shift_table(pat):\n",
    "    m=len(pat)\n",
    "    tbl=[m]*NO_OF_CHARS\n",
    "\n",
    "    for i in range(m-1):\n",
    "        tbl[ord(pat[i])]=m-1-i\n",
    "\n",
    "    return tbl\n",
    "# 알고리즘 코드\n",
    "def search_horspool(T,P):\n",
    "    m=len(P)\n",
    "    n=len(T)\n",
    "    t=shift_table(P)\n",
    "    i=m-1\n",
    "    while(i<=n-1):\n",
    "        k=0\n",
    "        while k<=m-1 and P[m-1-k]==T[i-k]:\n",
    "            k +=1\n",
    "        if k==m:\n",
    "            return i-m+1\n",
    "        else:\n",
    "            tc=t[ord(T[i-k])]\n",
    "            i+=(tc-k)\n",
    "    return -1"
   ]
  },
  {
   "cell_type": "code",
   "execution_count": 4,
   "metadata": {},
   "outputs": [
    {
     "name": "stdout",
     "output_type": "stream",
     "text": [
      "패턴의 위치:  24\n"
     ]
    }
   ],
   "source": [
    "# 테스트 코드\n",
    "print(\"패턴의 위치: \",search_horspool(\"LEAGUEOFLEGENDSOVERWATCHHEROSOFTHESTORMS\",\"HEROSOFTHESTORMS\"))"
   ]
  },
  {
   "attachments": {
    "image.png": {
     "image/png": "[encoded data removed]"
    }
   },
   "cell_type": "markdown",
   "metadata": {},
   "source": [
    "![image.png](attachment:image.png)"
   ]
  },
  {
   "cell_type": "markdown",
   "metadata": {},
   "source": [
    "# 복잡도 분석\n",
    "주어진 텍스트와 패턴의 길이를 찾는 것: O(1)\n",
    "\n",
    "시프트 테이블을 생성하는 것 : O(m) \n",
    "\n",
    "외부 루프(while 루프)에서의 반복 횟수: n-m\n",
    "\n",
    "각 반복에서 패턴과 텍스트의 비교 : O(1)\n",
    "\n",
    "이동 거리 계산 및 인덱스 이동 : O(1)\n",
    "\n",
    "외부 루프의 반복 횟수는 최대 n−m+1번이고, 내부 루프의 반복 횟수는 최대 m번\n",
    "\n",
    "따라서 시간복잡도 : O(mn)"
   ]
  }
 ],
 "metadata": {
  "kernelspec": {
   "display_name": "Python 3",
   "language": "python",
   "name": "python3"
  },
  "language_info": {
   "codemirror_mode": {
    "name": "ipython",
    "version": 3
   },
   "file_extension": ".py",
   "mimetype": "text/x-python",
   "name": "python",
   "nbconvert_exporter": "python",
   "pygments_lexer": "ipython3",
   "version": "3.12.2"
  }
 },
 "nbformat": 4,
 "nbformat_minor": 2
}
