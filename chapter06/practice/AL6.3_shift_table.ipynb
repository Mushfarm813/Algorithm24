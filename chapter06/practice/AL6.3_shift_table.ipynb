{
 "cells": [
  {
   "cell_type": "markdown",
   "metadata": {},
   "source": [
    "# 문제정의\n",
    "호스풀 알고리즘의 시프트 테이블 만들기"
   ]
  },
  {
   "cell_type": "markdown",
   "metadata": {},
   "source": [
    "# 알고리즘 설명\n",
    "하나의 위치에서 패턴은 뒤에서 앞으로 검사\n",
    "\n",
    "시프트 테이블은 각 문자의 이동 거리를 사전에 계산하여 저장"
   ]
  },
  {
   "cell_type": "markdown",
   "metadata": {},
   "source": [
    "손으로 푼 예제"
   ]
  },
  {
   "cell_type": "markdown",
   "metadata": {},
   "source": [
    "# 코드개요\n",
    "입력변수 : pat\n",
    "\n",
    "출력 : tbl\n",
    "\n",
    "함수 설명 : 패턴의 모든 문자에 대해 그 알파벳이 패턴의 몇번째 문자인이 탐색 후 저장한다."
   ]
  },
  {
   "cell_type": "code",
   "execution_count": 1,
   "metadata": {},
   "outputs": [],
   "source": [
    "# 알고리즘 코드\n",
    "NO_OF_CHARS=128\n",
    "def shift_table(pat):\n",
    "    m=len(pat)\n",
    "    tbl=[m]*NO_OF_CHARS\n",
    "\n",
    "    for i in range(m-1):\n",
    "        tbl[ord(pat[i])]=m-1-i\n",
    "\n",
    "    return tbl"
   ]
  },
  {
   "cell_type": "code",
   "execution_count": 4,
   "metadata": {},
   "outputs": [
    {
     "name": "stdout",
     "output_type": "stream",
     "text": [
      "패턴의 위치:  0\n"
     ]
    }
   ],
   "source": [
    "# 테스트 코드\n",
    "def search_horspool(T,P):\n",
    "    m=len(P)\n",
    "    n=len(T)\n",
    "    t=shift_table(P)\n",
    "    i=m-1\n",
    "    while(i<=n-1):\n",
    "        k=0\n",
    "        while k<=m-1 and P[m-1-k]==T[i-k]:\n",
    "            k +=1\n",
    "        if k==m:\n",
    "            return i-m+1\n",
    "        else:\n",
    "            tc=t[ord(T[i-k])]\n",
    "            i+=(tc-k)\n",
    "    return -1\n",
    "\n",
    "print(\"패턴의 위치: \",search_horspool(\"KARINAWINTERNINGNINGGISELLE\",\"KARINA\"))"
   ]
  },
  {
   "attachments": {
    "image.png": {
     "image/png": "[encoded data removed]"
    }
   },
   "cell_type": "markdown",
   "metadata": {},
   "source": [
    "![image.png](attachment:image.png)"
   ]
  },
  {
   "cell_type": "markdown",
   "metadata": {},
   "source": [
    "# 복잡도 분석\n",
    "주어진 패턴의 길이를 찾는 것 : O(1)\n",
    "\n",
    "시프트 테이블을 초기화하는 것 : O(1)\n",
    "\n",
    "반복문을 통해 패턴의 각 문자에 대한 시프트 값을 계산하고 테이블에 저장하는 것 : O(m) \n",
    "\n",
    "따라서 복잡도 : O(m)"
   ]
  }
 ],
 "metadata": {
  "kernelspec": {
   "display_name": "Python 3",
   "language": "python",
   "name": "python3"
  },
  "language_info": {
   "codemirror_mode": {
    "name": "ipython",
    "version": 3
   },
   "file_extension": ".py",
   "mimetype": "text/x-python",
   "name": "python",
   "nbconvert_exporter": "python",
   "pygments_lexer": "ipython3",
   "version": "3.12.2"
  }
 },
 "nbformat": 4,
 "nbformat_minor": 2
}
